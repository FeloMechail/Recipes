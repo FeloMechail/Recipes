{
 "cells": [
  {
   "cell_type": "code",
   "execution_count": null,
   "metadata": {},
   "outputs": [],
   "source": [
    "import weaviate \n",
    "from weaviate.connect import ConnectionParams\n",
    "from weaviate.classes.config import Configure\n",
    "import json\n",
    "from weaviate.classes.config import Property, DataType\n",
    "from weaviate.classes.init import AdditionalConfig, Timeout\n",
    "from weaviate.classes.query import Filter\n",
    "import pandas\n"
   ]
  },
  {
   "cell_type": "code",
   "execution_count": null,
   "metadata": {},
   "outputs": [],
   "source": [
    "df = pandas.read_json(\"full_format_recipes.json\")\n",
    "df.info()"
   ]
  },
  {
   "cell_type": "code",
   "execution_count": null,
   "metadata": {},
   "outputs": [],
   "source": [
    "#remove duplicates\n",
    "df_removed = df.drop_duplicates(subset=['title'], keep='first')\n",
    "df_removed.info()"
   ]
  },
  {
   "cell_type": "code",
   "execution_count": null,
   "metadata": {},
   "outputs": [],
   "source": [
    "unique_data = df_removed.to_dict(orient='records')"
   ]
  },
  {
   "cell_type": "code",
   "execution_count": null,
   "metadata": {},
   "outputs": [],
   "source": [
    "client = weaviate.connect_to_local(\n",
    "    additional_config=AdditionalConfig(\n",
    "        timeout=Timeout(query=60)\n",
    "    )\n",
    ")"
   ]
  },
  {
   "cell_type": "code",
   "execution_count": null,
   "metadata": {},
   "outputs": [],
   "source": [
    "#delete the schema\n",
    "client.collections.delete(\"Recipes\")"
   ]
  },
  {
   "cell_type": "code",
   "execution_count": null,
   "metadata": {},
   "outputs": [],
   "source": [
    "properties = [\n",
    "    Property(name=\"directions\", data_type=DataType.TEXT_ARRAY),\n",
    "    Property(name=\"fat\", data_type=DataType.NUMBER),\n",
    "    Property(name=\"date\", data_type=DataType.TEXT),\n",
    "    Property(name=\"categories\", data_type=DataType.TEXT_ARRAY),\n",
    "    Property(name=\"calories\", data_type=DataType.NUMBER),\n",
    "    Property(name=\"desc\", data_type=DataType.TEXT),\n",
    "    Property(name=\"protein\", data_type=DataType.NUMBER),\n",
    "    Property(name=\"rating\", data_type=DataType.NUMBER),\n",
    "    Property(name=\"title\", data_type=DataType.TEXT),\n",
    "    Property(name=\"ingredients\", data_type=DataType.TEXT_ARRAY),\n",
    "    Property(name=\"sodium\", data_type=DataType.NUMBER),\n",
    "]\n",
    "\n",
    "client.collections.create(\n",
    "    \"Recipes\",\n",
    "    properties=properties,\n",
    "    generative_config=Configure.Generative.ollama(\n",
    "        api_endpoint=\"http://host.docker.internal:11434\",\n",
    "        model=\"mistral\",\n",
    "    ),\n",
    "    vectorizer_config=[\n",
    "        Configure.NamedVectors.text2vec_ollama(\n",
    "            name=\"text2vec\",\n",
    "            model=\"nomic-embed-text\",\n",
    "            api_endpoint=\"http://host.docker.internal:11434\",\n",
    "        )\n",
    "    ]\n",
    ")\n"
   ]
  },
  {
   "cell_type": "code",
   "execution_count": null,
   "metadata": {},
   "outputs": [],
   "source": [
    "collection = client.collections.get(\"Recipes\")"
   ]
  },
  {
   "cell_type": "code",
   "execution_count": null,
   "metadata": {},
   "outputs": [],
   "source": [
    "counter = 0\n",
    "interval = 100\n",
    "\n",
    "with client.batch.fixed_size(batch_size=200) as batch:\n",
    "        for recipe in unique_data:\n",
    "\n",
    "            properties = {\n",
    "                    \"directions\": recipe.get(\"directions\", []),  # Use an empty list as the default value\n",
    "                    \"fat\": recipe.get(\"fat\", 0),  # Use 0 as the default value for numeric fields\n",
    "                    \"date\": recipe.get(\"date\", \"\"),\n",
    "                    \"categories\": recipe.get(\"categories\", []),\n",
    "                    \"calories\": recipe.get(\"calories\", 0),\n",
    "                    \"desc\": recipe.get(\"desc\", \"\"),\n",
    "                    \"protein\": recipe.get(\"protein\", 0),\n",
    "                    \"rating\": recipe.get(\"rating\", 0.0),\n",
    "                    \"title\": recipe.get(\"title\", \"\"),\n",
    "                    \"ingredients\": recipe.get(\"ingredients\", []),\n",
    "                    \"sodium\": recipe.get(\"sodium\", 0),\n",
    "                } \n",
    "\n",
    "            batch.add_object(\n",
    "                collection=\"Recipes\",\n",
    "                properties=properties, \n",
    "            )\n",
    "\n",
    "            counter += 1\n",
    "            if counter % interval == 0:\n",
    "                print(f\"Added {counter} recipes\")\n",
    "\n",
    "print(f\"Added {counter} recipes\")"
   ]
  },
  {
   "cell_type": "code",
   "execution_count": null,
   "metadata": {},
   "outputs": [],
   "source": [
    "recipes_config = collection.config.get()\n",
    "schema = client.collections.get(\"Recipes\").config.get(simple=True)\n",
    "print(\"Schema: \", schema)\n",
    "#get collection count\n",
    "print(\"Recipes count: \", collection.aggregate.over_all(total_count=True).total_count)"
   ]
  },
  {
   "cell_type": "code",
   "execution_count": null,
   "metadata": {},
   "outputs": [],
   "source": [
    "response = collection.query.near_text(\n",
    "    query=\"Apple\",\n",
    "    limit=5,\n",
    "    filters=Filter.by_property(\"rating\").equal(5)\n",
    ")"
   ]
  },
  {
   "cell_type": "code",
   "execution_count": null,
   "metadata": {},
   "outputs": [],
   "source": [
    "response = collection.query.near_text(\n",
    "    query=\"Apple\",\n",
    "    limit=5,\n",
    "    filters=Filter.by_property(\"rating\")\n",
    "    \n",
    ")"
   ]
  },
  {
   "cell_type": "code",
   "execution_count": null,
   "metadata": {},
   "outputs": [],
   "source": [
    "#testing embedding retrieval\n",
    "\n",
    "for obj in response.objects:\n",
    "    print(obj.properties[\"title\"])\n",
    "    print(\"\")"
   ]
  },
  {
   "cell_type": "code",
   "execution_count": null,
   "metadata": {},
   "outputs": [],
   "source": [
    "response = collection.generate.near_text(\n",
    "    query=\"Apple\",\n",
    "    limit=2,\n",
    "    grouped_task=\"which recipe do you recommend for beginner cook?, do not provide steps or recipes. just the title and your opinion based on the description and ingredients. if there is none, say so. in less than 50 words.\",\n",
    "    grouped_properties=[\"desc\",\"title\", \"ingredients\"],\n",
    "    filters=Filter.by_property(\"rating\").equal(5),\n",
    ")\n",
    "\n",
    "print(response.generated)"
   ]
  },
  {
   "cell_type": "code",
   "execution_count": null,
   "metadata": {},
   "outputs": [],
   "source": [
    "result = client.graphql_raw_query(\n",
    "\"\"\"    {\n",
    "        Get {\n",
    "            Recipes(\n",
    "                limit: 2\n",
    "                nearText: {\n",
    "                    concepts: [\"Apple\"]\n",
    "                }\n",
    "            ){\n",
    "                desc\n",
    "                _additional {\n",
    "                    summary (\n",
    "                        properties: [\"desc\"]\n",
    "                    )\n",
    "                    {\n",
    "                        property\n",
    "                        result\n",
    "                    }\n",
    "                }\n",
    "            }\n",
    "        }\n",
    "    }\"\"\"\n",
    ")\n",
    "\n"
   ]
  },
  {
   "cell_type": "code",
   "execution_count": null,
   "metadata": {},
   "outputs": [],
   "source": [
    "print(result)"
   ]
  }
 ],
 "metadata": {
  "kernelspec": {
   "display_name": ".env",
   "language": "python",
   "name": "python3"
  },
  "language_info": {
   "codemirror_mode": {
    "name": "ipython",
    "version": 3
   },
   "file_extension": ".py",
   "mimetype": "text/x-python",
   "name": "python",
   "nbconvert_exporter": "python",
   "pygments_lexer": "ipython3",
   "version": "3.11.9"
  }
 },
 "nbformat": 4,
 "nbformat_minor": 2
}
